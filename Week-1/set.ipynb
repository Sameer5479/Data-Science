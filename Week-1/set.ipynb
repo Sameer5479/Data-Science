{
 "cells": [
  {
   "cell_type": "code",
   "execution_count": 1,
   "metadata": {},
   "outputs": [
    {
     "name": "stdout",
     "output_type": "stream",
     "text": [
      "Updated set : {2, 4, 5, 6, 9}\n"
     ]
    }
   ],
   "source": [
    "#Set\n",
    "Set_1 = {1, 2, 3, 4, 5}\n",
    "\n",
    "#Adding new element to the set\n",
    "Set_1.add(6)\n",
    "\n",
    "#Removing an element from the set\n",
    "Set_1.remove(1)\n",
    "\n",
    "#Modifying an element from the set\n",
    "Set_1.discard(3)\n",
    "Set_1.add(9)\n",
    "\n",
    "#Print the final updated set\n",
    "print(\"Updated set :\",Set_1)"
   ]
  },
  {
   "cell_type": "code",
   "execution_count": null,
   "metadata": {},
   "outputs": [],
   "source": []
  }
 ],
 "metadata": {
  "kernelspec": {
   "display_name": "Python 3",
   "language": "python",
   "name": "python3"
  },
  "language_info": {
   "codemirror_mode": {
    "name": "ipython",
    "version": 3
   },
   "file_extension": ".py",
   "mimetype": "text/x-python",
   "name": "python",
   "nbconvert_exporter": "python",
   "pygments_lexer": "ipython3",
   "version": "3.10.6"
  }
 },
 "nbformat": 4,
 "nbformat_minor": 2
}
