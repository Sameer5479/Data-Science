{
 "cells": [
  {
   "cell_type": "code",
   "execution_count": 1,
   "metadata": {},
   "outputs": [
    {
     "name": "stdout",
     "output_type": "stream",
     "text": [
      "Updated dictionary : {'name': 'Sameer', 'age': 21, 'gender': 'Male'}\n"
     ]
    }
   ],
   "source": [
    "#Dictionary\n",
    "Dict_1 = {'name': 'Sameer', 'age': 20, 'city': 'Jaipur'}\n",
    "\n",
    "#Adding new element to the dictionary\n",
    "Dict_1['gender']='Male'\n",
    "\n",
    "#Removing an element from the dictionary\n",
    "del Dict_1['city']\n",
    "\n",
    "#Modifying an element from the dictionary\n",
    "Dict_1['age']=21\n",
    "\n",
    "#Print the final updated dictionary\n",
    "print(\"Updated dictionary :\",Dict_1)"
   ]
  },
  {
   "cell_type": "code",
   "execution_count": null,
   "metadata": {},
   "outputs": [],
   "source": []
  }
 ],
 "metadata": {
  "kernelspec": {
   "display_name": "Python 3",
   "language": "python",
   "name": "python3"
  },
  "language_info": {
   "codemirror_mode": {
    "name": "ipython",
    "version": 3
   },
   "file_extension": ".py",
   "mimetype": "text/x-python",
   "name": "python",
   "nbconvert_exporter": "python",
   "pygments_lexer": "ipython3",
   "version": "3.10.6"
  }
 },
 "nbformat": 4,
 "nbformat_minor": 2
}
