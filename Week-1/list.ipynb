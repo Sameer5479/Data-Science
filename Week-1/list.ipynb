{
 "cells": [
  {
   "cell_type": "code",
   "execution_count": 1,
   "metadata": {},
   "outputs": [
    {
     "name": "stdout",
     "output_type": "stream",
     "text": [
      "Updated list : [1, 3, 'sameer', 'Jaipur', 'Delhi']\n"
     ]
    }
   ],
   "source": [
    "#List\n",
    "List_1 = [1,2,'sameer',12.4,'Jaipur']\n",
    "\n",
    "#Adding new element to the list\n",
    "List_1.append('Delhi')\n",
    "\n",
    "#Removing an element from the list\n",
    "List_1.remove(12.4)\n",
    "\n",
    "#Modifying an element from the list\n",
    "List_1[1]=3\n",
    "\n",
    "#Print the final updated list\n",
    "print(\"Updated list :\",List_1)"
   ]
  },
  {
   "cell_type": "code",
   "execution_count": null,
   "metadata": {},
   "outputs": [],
   "source": []
  }
 ],
 "metadata": {
  "kernelspec": {
   "display_name": "Python 3",
   "language": "python",
   "name": "python3"
  },
  "language_info": {
   "codemirror_mode": {
    "name": "ipython",
    "version": 3
   },
   "file_extension": ".py",
   "mimetype": "text/x-python",
   "name": "python",
   "nbconvert_exporter": "python",
   "pygments_lexer": "ipython3",
   "version": "3.10.6"
  }
 },
 "nbformat": 4,
 "nbformat_minor": 2
}
